{
 "cells": [
  {
   "cell_type": "markdown",
   "metadata": {},
   "source": [
    "### The Process Time Printer\n",
    "This class is used to keep track of the iterations in a process and estimate the time remaining for a process to complete. The code will show a streaming log of the process in a neat and tidy print() function.<br>\n",
    "##### Instructions:\n",
    "1. Before the long process begins, instantiate this class and pass in the total iterations the process will execute.<br>\n",
    "<code>ptp = process_time_printer(iteration_count)</code><br>\n",
    "<br>\n",
    "2. As the first line of code in the calculation method, generate a timestamp for that iteration.<br>\n",
    "<code>st = ptp.get_time()</code><br>\n",
    "<br>\n",
    "3. As the last line of code in the calculation method, call the increment() function and pass in the timestamp from #2.<br>\n",
    "<code>ptp.increment(st)</code><br>"
   ]
  },
  {
   "cell_type": "code",
   "execution_count": 55,
   "metadata": {},
   "outputs": [],
   "source": [
    "### Process Time Printer Class\n",
    "import time\n",
    "import numpy as np\n",
    "from numpy import random\n",
    "\n",
    "class process_time_printer():\n",
    "    \n",
    "    def __init__(self, count):\n",
    "        self.count = count\n",
    "        self.iteration = 1\n",
    "        self.time_list = []\n",
    "        self.start_time = time.time()\n",
    "        \n",
    "    def increment(self, st):\n",
    "        self.time_list.append(self.get_time() - st)\n",
    "        print('| {0}/{1} complete | {2} seconds elapsed | {3} estimated seconds remaining |     '.format(\n",
    "            self.iteration, self.count, round(self.get_time() - self.start_time, 4)\n",
    "            , round((self.count - self.iteration) * np.mean(self.time_list), 4)\n",
    "        ), end='\\r', flush=True)\n",
    "        self.iteration += 1\n",
    "        \n",
    "    def get_time(self):\n",
    "        return time.time()"
   ]
  },
  {
   "cell_type": "code",
   "execution_count": 57,
   "metadata": {},
   "outputs": [
    {
     "name": "stdout",
     "output_type": "stream",
     "text": [
      "| 10000/10000 complete | 55.7865 seconds elapsed | 0.0 estimated seconds remaining |        \r"
     ]
    }
   ],
   "source": [
    "### Using the Process Time Printer\n",
    "iteration_count = 10000 # adjust this for more/less iterations\n",
    "complexity = 100000 # adjust this for calculation to take longer - don't go larger than 10 mil\n",
    "\n",
    "def calculate_this():\n",
    "    st = ptp.get_time() # 2.\n",
    "\n",
    "    # method formula here\n",
    "    a = len(random.bytes(complexity))\n",
    "    b = np.std(random.permutation(complexity))\n",
    "    \n",
    "    ptp.increment(st) # 3.\n",
    "\n",
    "ptp = process_time_printer(iteration_count) # 1.\n",
    "\n",
    "for i in range(0, iteration_count):\n",
    "    calculate_this()"
   ]
  },
  {
   "cell_type": "code",
   "execution_count": null,
   "metadata": {},
   "outputs": [],
   "source": []
  }
 ],
 "metadata": {
  "kernelspec": {
   "display_name": "Python 3",
   "language": "python",
   "name": "python3"
  },
  "language_info": {
   "codemirror_mode": {
    "name": "ipython",
    "version": 3
   },
   "file_extension": ".py",
   "mimetype": "text/x-python",
   "name": "python",
   "nbconvert_exporter": "python",
   "pygments_lexer": "ipython3",
   "version": "3.6.4"
  }
 },
 "nbformat": 4,
 "nbformat_minor": 2
}
